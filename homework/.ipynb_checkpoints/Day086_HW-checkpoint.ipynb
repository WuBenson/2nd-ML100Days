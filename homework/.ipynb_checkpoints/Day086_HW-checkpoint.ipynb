{
 "cells": [
  {
   "cell_type": "markdown",
   "metadata": {},
   "source": [
    "## Work\n",
    "1. 試比較 save_best_only 與否的差異\n",
    "2. 請僅存入將 save_weights_only 設定為 True, 並嘗試 reset ipynb 並將模型與權重重新建回並預測 x_test"
   ]
  },
  {
   "cell_type": "code",
   "execution_count": 1,
   "metadata": {},
   "outputs": [
    {
     "name": "stderr",
     "output_type": "stream",
     "text": [
      "Using TensorFlow backend.\n"
     ]
    }
   ],
   "source": [
    "import os\n",
    "import keras\n",
    "\n",
    "# Disable GPU\n",
    "os.environ[\"CUDA_VISIBLE_DEVICES\"] = \"\""
   ]
  },
  {
   "cell_type": "code",
   "execution_count": 2,
   "metadata": {},
   "outputs": [],
   "source": [
    "train, test = keras.datasets.cifar10.load_data()"
   ]
  },
  {
   "cell_type": "code",
   "execution_count": 3,
   "metadata": {},
   "outputs": [],
   "source": [
    "## 資料前處理\n",
    "def preproc_x(x, flatten=True):\n",
    "    x = x / 255.\n",
    "    if flatten:\n",
    "        x = x.reshape((len(x), -1))\n",
    "    return x\n",
    "\n",
    "def preproc_y(y, num_classes=10):\n",
    "    if y.shape[-1] == 1:\n",
    "        y = keras.utils.to_categorical(y, num_classes)\n",
    "    return y    "
   ]
  },
  {
   "cell_type": "code",
   "execution_count": 4,
   "metadata": {},
   "outputs": [],
   "source": [
    "x_train, y_train = train\n",
    "x_test, y_test = test\n",
    "\n",
    "# Preproc the inputs\n",
    "x_train = preproc_x(x_train)\n",
    "x_test = preproc_x(x_test)\n",
    "\n",
    "# Preprc the outputs\n",
    "y_train = preproc_y(y_train)\n",
    "y_test = preproc_y(y_test)"
   ]
  },
  {
   "cell_type": "code",
   "execution_count": 5,
   "metadata": {},
   "outputs": [],
   "source": [
    "from keras.layers import BatchNormalization\n",
    "\n",
    "def build_mlp(input_shape, output_units=10, num_neurons=[512, 256, 128]):\n",
    "    input_layer = keras.layers.Input(input_shape)\n",
    "    for i, n_units in enumerate(num_neurons):\n",
    "        if i == 0:\n",
    "            x = keras.layers.Dense(units=n_units, activation=\"relu\", name=\"hidden_layer\"+str(i+1))(input_layer)\n",
    "            x = BatchNormalization()(x)\n",
    "        else:\n",
    "            x = keras.layers.Dense(units=n_units, activation=\"relu\", name=\"hidden_layer\"+str(i+1))(x)\n",
    "            x = BatchNormalization()(x)\n",
    "            \n",
    "    out = keras.layers.Dense(units=output_units, activation=\"softmax\", name=\"output\")(x)\n",
    "    model = keras.models.Model(inputs=[input_layer], outputs=[out])\n",
    "    \n",
    "    return model"
   ]
  },
  {
   "cell_type": "code",
   "execution_count": 6,
   "metadata": {},
   "outputs": [],
   "source": [
    "LEARNING_RATE = 1e-3\n",
    "EPOCHS = 50\n",
    "BATCH_SIZE = 1024\n",
    "MOMENTUM = 0.95"
   ]
  },
  {
   "cell_type": "code",
   "execution_count": 7,
   "metadata": {
    "scrolled": false
   },
   "outputs": [
    {
     "name": "stdout",
     "output_type": "stream",
     "text": [
      "_________________________________________________________________\n",
      "Layer (type)                 Output Shape              Param #   \n",
      "=================================================================\n",
      "input_1 (InputLayer)         (None, 3072)              0         \n",
      "_________________________________________________________________\n",
      "hidden_layer1 (Dense)        (None, 512)               1573376   \n",
      "_________________________________________________________________\n",
      "batch_normalization_1 (Batch (None, 512)               2048      \n",
      "_________________________________________________________________\n",
      "hidden_layer2 (Dense)        (None, 256)               131328    \n",
      "_________________________________________________________________\n",
      "batch_normalization_2 (Batch (None, 256)               1024      \n",
      "_________________________________________________________________\n",
      "hidden_layer3 (Dense)        (None, 128)               32896     \n",
      "_________________________________________________________________\n",
      "batch_normalization_3 (Batch (None, 128)               512       \n",
      "_________________________________________________________________\n",
      "output (Dense)               (None, 10)                1290      \n",
      "=================================================================\n",
      "Total params: 1,742,474\n",
      "Trainable params: 1,740,682\n",
      "Non-trainable params: 1,792\n",
      "_________________________________________________________________\n",
      "Train on 50000 samples, validate on 10000 samples\n",
      "Epoch 1/50\n",
      "50000/50000 [==============================] - 4s 86us/step - loss: 2.1955 - acc: 0.2808 - val_loss: 2.0677 - val_acc: 0.3042\n",
      "Epoch 2/50\n",
      "50000/50000 [==============================] - 2s 47us/step - loss: 1.7411 - acc: 0.3951 - val_loss: 1.8466 - val_acc: 0.3734\n",
      "Epoch 3/50\n",
      "50000/50000 [==============================] - 2s 47us/step - loss: 1.6156 - acc: 0.4331 - val_loss: 1.7046 - val_acc: 0.4003\n",
      "Epoch 4/50\n",
      "50000/50000 [==============================] - 2s 46us/step - loss: 1.5435 - acc: 0.4592 - val_loss: 1.6368 - val_acc: 0.4229\n",
      "Epoch 5/50\n",
      "50000/50000 [==============================] - 2s 47us/step - loss: 1.4892 - acc: 0.4780 - val_loss: 1.6057 - val_acc: 0.4330\n",
      "Epoch 6/50\n",
      "50000/50000 [==============================] - 2s 46us/step - loss: 1.4428 - acc: 0.4927 - val_loss: 1.5627 - val_acc: 0.4446\n",
      "Epoch 7/50\n",
      "50000/50000 [==============================] - 2s 47us/step - loss: 1.4033 - acc: 0.5092 - val_loss: 1.5394 - val_acc: 0.4582\n",
      "Epoch 8/50\n",
      "50000/50000 [==============================] - 2s 46us/step - loss: 1.3671 - acc: 0.5218 - val_loss: 1.5186 - val_acc: 0.4617\n",
      "Epoch 9/50\n",
      "50000/50000 [==============================] - 2s 47us/step - loss: 1.3350 - acc: 0.5334 - val_loss: 1.5130 - val_acc: 0.4644\n",
      "Epoch 10/50\n",
      "50000/50000 [==============================] - 2s 46us/step - loss: 1.3060 - acc: 0.5446 - val_loss: 1.4975 - val_acc: 0.4714\n",
      "Epoch 11/50\n",
      "50000/50000 [==============================] - 2s 47us/step - loss: 1.2781 - acc: 0.5550 - val_loss: 1.4850 - val_acc: 0.4749\n",
      "Epoch 12/50\n",
      "50000/50000 [==============================] - 2s 46us/step - loss: 1.2529 - acc: 0.5639 - val_loss: 1.4821 - val_acc: 0.4793\n",
      "Epoch 13/50\n",
      "50000/50000 [==============================] - 2s 46us/step - loss: 1.2254 - acc: 0.5753 - val_loss: 1.4711 - val_acc: 0.4843\n",
      "Epoch 14/50\n",
      "50000/50000 [==============================] - 2s 47us/step - loss: 1.2023 - acc: 0.5816 - val_loss: 1.4665 - val_acc: 0.4877\n",
      "Epoch 15/50\n",
      "50000/50000 [==============================] - 2s 47us/step - loss: 1.1772 - acc: 0.5922 - val_loss: 1.4679 - val_acc: 0.4849\n",
      "Epoch 16/50\n",
      "50000/50000 [==============================] - 2s 47us/step - loss: 1.1552 - acc: 0.5988 - val_loss: 1.4586 - val_acc: 0.4858\n",
      "Epoch 17/50\n",
      "50000/50000 [==============================] - 2s 46us/step - loss: 1.1340 - acc: 0.6076 - val_loss: 1.4590 - val_acc: 0.4897\n",
      "Epoch 18/50\n",
      "50000/50000 [==============================] - 2s 47us/step - loss: 1.1117 - acc: 0.6166 - val_loss: 1.4650 - val_acc: 0.4848\n",
      "Epoch 19/50\n",
      "50000/50000 [==============================] - 2s 47us/step - loss: 1.0893 - acc: 0.6237 - val_loss: 1.4445 - val_acc: 0.4961\n",
      "Epoch 20/50\n",
      "50000/50000 [==============================] - 2s 46us/step - loss: 1.0672 - acc: 0.6334 - val_loss: 1.4506 - val_acc: 0.4972\n",
      "Epoch 21/50\n",
      "50000/50000 [==============================] - 2s 47us/step - loss: 1.0474 - acc: 0.6403 - val_loss: 1.4587 - val_acc: 0.4864\n",
      "Epoch 22/50\n",
      "50000/50000 [==============================] - 2s 46us/step - loss: 1.0266 - acc: 0.6474 - val_loss: 1.4579 - val_acc: 0.4947\n",
      "Epoch 23/50\n",
      "50000/50000 [==============================] - 2s 46us/step - loss: 1.0072 - acc: 0.6555 - val_loss: 1.4454 - val_acc: 0.4943\n",
      "Epoch 24/50\n",
      "50000/50000 [==============================] - 2s 46us/step - loss: 0.9872 - acc: 0.6643 - val_loss: 1.4555 - val_acc: 0.4900\n",
      "Epoch 25/50\n",
      "50000/50000 [==============================] - 2s 47us/step - loss: 0.9669 - acc: 0.6716 - val_loss: 1.4518 - val_acc: 0.4896\n",
      "Epoch 26/50\n",
      "50000/50000 [==============================] - 2s 47us/step - loss: 0.9471 - acc: 0.6807 - val_loss: 1.4484 - val_acc: 0.4975\n",
      "Epoch 27/50\n",
      "50000/50000 [==============================] - 2s 46us/step - loss: 0.9277 - acc: 0.6878 - val_loss: 1.4641 - val_acc: 0.4955\n",
      "Epoch 28/50\n",
      "50000/50000 [==============================] - 2s 47us/step - loss: 0.9079 - acc: 0.6948 - val_loss: 1.4665 - val_acc: 0.4941\n",
      "Epoch 29/50\n",
      "50000/50000 [==============================] - 2s 48us/step - loss: 0.8910 - acc: 0.7014 - val_loss: 1.4620 - val_acc: 0.4937\n",
      "Epoch 30/50\n",
      "50000/50000 [==============================] - 2s 46us/step - loss: 0.8707 - acc: 0.7106 - val_loss: 1.4694 - val_acc: 0.4968\n",
      "Epoch 31/50\n",
      "50000/50000 [==============================] - 2s 46us/step - loss: 0.8498 - acc: 0.7195 - val_loss: 1.4786 - val_acc: 0.4987\n",
      "Epoch 32/50\n",
      "50000/50000 [==============================] - 2s 46us/step - loss: 0.8340 - acc: 0.7249 - val_loss: 1.4686 - val_acc: 0.4996\n",
      "Epoch 33/50\n",
      "50000/50000 [==============================] - 2s 47us/step - loss: 0.8124 - acc: 0.7350 - val_loss: 1.4772 - val_acc: 0.4992\n",
      "Epoch 34/50\n",
      "50000/50000 [==============================] - 2s 48us/step - loss: 0.7948 - acc: 0.7409 - val_loss: 1.4889 - val_acc: 0.4961\n",
      "Epoch 35/50\n",
      "50000/50000 [==============================] - 2s 47us/step - loss: 0.7789 - acc: 0.7483 - val_loss: 1.5011 - val_acc: 0.4976\n",
      "Epoch 36/50\n",
      "50000/50000 [==============================] - 2s 48us/step - loss: 0.7605 - acc: 0.7562 - val_loss: 1.4952 - val_acc: 0.4961\n",
      "Epoch 37/50\n",
      "50000/50000 [==============================] - 2s 47us/step - loss: 0.7402 - acc: 0.7638 - val_loss: 1.5101 - val_acc: 0.4964\n",
      "Epoch 38/50\n",
      "50000/50000 [==============================] - 2s 46us/step - loss: 0.7228 - acc: 0.7699 - val_loss: 1.5260 - val_acc: 0.4929\n",
      "Epoch 39/50\n",
      "50000/50000 [==============================] - 2s 47us/step - loss: 0.7066 - acc: 0.7763 - val_loss: 1.5343 - val_acc: 0.4938\n",
      "Epoch 40/50\n",
      "50000/50000 [==============================] - 2s 48us/step - loss: 0.6853 - acc: 0.7845 - val_loss: 1.5310 - val_acc: 0.4967\n",
      "Epoch 41/50\n",
      "50000/50000 [==============================] - 2s 48us/step - loss: 0.6692 - acc: 0.7918 - val_loss: 1.5536 - val_acc: 0.4930\n",
      "Epoch 42/50\n",
      "50000/50000 [==============================] - 2s 48us/step - loss: 0.6523 - acc: 0.7977 - val_loss: 1.5573 - val_acc: 0.4934\n",
      "Epoch 43/50\n",
      "50000/50000 [==============================] - 2s 48us/step - loss: 0.6348 - acc: 0.8047 - val_loss: 1.5599 - val_acc: 0.4989\n",
      "Epoch 44/50\n",
      "50000/50000 [==============================] - 2s 49us/step - loss: 0.6180 - acc: 0.8136 - val_loss: 1.5626 - val_acc: 0.4942\n",
      "Epoch 45/50\n",
      "50000/50000 [==============================] - 3s 57us/step - loss: 0.6002 - acc: 0.8201 - val_loss: 1.5824 - val_acc: 0.4880\n",
      "Epoch 46/50\n",
      "50000/50000 [==============================] - 2s 49us/step - loss: 0.5834 - acc: 0.8264 - val_loss: 1.5791 - val_acc: 0.4960\n",
      "Epoch 47/50\n",
      "50000/50000 [==============================] - 3s 53us/step - loss: 0.5662 - acc: 0.8342 - val_loss: 1.6164 - val_acc: 0.4886\n",
      "Epoch 48/50\n",
      "50000/50000 [==============================] - 2s 49us/step - loss: 0.5520 - acc: 0.8386 - val_loss: 1.6118 - val_acc: 0.4956\n",
      "Epoch 49/50\n",
      "50000/50000 [==============================] - 2s 46us/step - loss: 0.5358 - acc: 0.8458 - val_loss: 1.6341 - val_acc: 0.4890\n"
     ]
    },
    {
     "name": "stdout",
     "output_type": "stream",
     "text": [
      "Epoch 50/50\n",
      "50000/50000 [==============================] - 2s 48us/step - loss: 0.5205 - acc: 0.8503 - val_loss: 1.6335 - val_acc: 0.4920\n"
     ]
    }
   ],
   "source": [
    "from keras.callbacks import ModelCheckpoint\n",
    "\n",
    "model_ckpt = ModelCheckpoint(filepath=\"./tmp.h5\", \n",
    "                             monitor=\"val_loss\", \n",
    "                             save_best_only=False,\n",
    "                             save_weights_only=True)\n",
    "\n",
    "\n",
    "model = build_mlp(input_shape=x_train.shape[1:])\n",
    "model.summary()\n",
    "optimizer = keras.optimizers.SGD(lr=LEARNING_RATE, nesterov=True, momentum=MOMENTUM)\n",
    "model.compile(loss=\"categorical_crossentropy\", metrics=[\"accuracy\"], optimizer=optimizer)\n",
    "\n",
    "model.fit(x_train, y_train, \n",
    "          epochs=EPOCHS, \n",
    "          batch_size=BATCH_SIZE, \n",
    "          validation_data=(x_test, y_test), \n",
    "          shuffle=True,\n",
    "          callbacks=[model_ckpt]\n",
    "         )\n",
    "\n",
    "# Collect results\n",
    "train_loss = model.history.history[\"loss\"]\n",
    "valid_loss = model.history.history[\"val_loss\"]\n",
    "train_acc = model.history.history[\"acc\"]\n",
    "valid_acc = model.history.history[\"val_acc\"]"
   ]
  },
  {
   "cell_type": "code",
   "execution_count": 19,
   "metadata": {
    "scrolled": false
   },
   "outputs": [
    {
     "name": "stdout",
     "output_type": "stream",
     "text": [
      "_________________________________________________________________\n",
      "Layer (type)                 Output Shape              Param #   \n",
      "=================================================================\n",
      "input_4 (InputLayer)         (None, 3072)              0         \n",
      "_________________________________________________________________\n",
      "hidden_layer1 (Dense)        (None, 512)               1573376   \n",
      "_________________________________________________________________\n",
      "batch_normalization_10 (Batc (None, 512)               2048      \n",
      "_________________________________________________________________\n",
      "hidden_layer2 (Dense)        (None, 256)               131328    \n",
      "_________________________________________________________________\n",
      "batch_normalization_11 (Batc (None, 256)               1024      \n",
      "_________________________________________________________________\n",
      "hidden_layer3 (Dense)        (None, 128)               32896     \n",
      "_________________________________________________________________\n",
      "batch_normalization_12 (Batc (None, 128)               512       \n",
      "_________________________________________________________________\n",
      "output (Dense)               (None, 10)                1290      \n",
      "=================================================================\n",
      "Total params: 1,742,474\n",
      "Trainable params: 1,740,682\n",
      "Non-trainable params: 1,792\n",
      "_________________________________________________________________\n"
     ]
    }
   ],
   "source": [
    "# Load back\n",
    "reload_model = build_mlp(input_shape=x_train.shape[1:])\n",
    "reload_model.load_weights(\"./tmp.h5\")\n",
    "optimizer = keras.optimizers.SGD(lr=LEARNING_RATE, nesterov=True, momentum=MOMENTUM)\n",
    "reload_model.compile(loss=\"categorical_crossentropy\", metrics=[\"accuracy\"], optimizer=optimizer)\n",
    "reload_model.summary()"
   ]
  },
  {
   "cell_type": "code",
   "execution_count": 23,
   "metadata": {},
   "outputs": [
    {
     "name": "stdout",
     "output_type": "stream",
     "text": [
      "10000/10000 [==============================] - 1s 68us/step\n",
      "loss_loadback: 1.6335058961868285\n",
      "acc_loadback: 0.492\n"
     ]
    }
   ],
   "source": [
    "loss_loadback, acc_loadback = reload_model.evaluate(x_test, y_test)\n",
    "print('loss_loadback: {}\\nacc_loadback: {}'.format(loss_loadback, acc_loadback))"
   ]
  },
  {
   "cell_type": "code",
   "execution_count": 24,
   "metadata": {
    "scrolled": false
   },
   "outputs": [
    {
     "data": {
      "image/png": "[encoded data removed]",
      "text/plain": [
       "<Figure size 432x288 with 1 Axes>"
      ]
     },
     "metadata": {
      "needs_background": "light"
     },
     "output_type": "display_data"
    },
    {
     "data": {
      "image/png": "[encoded data removed]",
      "text/plain": [
       "<Figure size 432x288 with 1 Axes>"
      ]
     },
     "metadata": {
      "needs_background": "light"
     },
     "output_type": "display_data"
    }
   ],
   "source": [
    "import matplotlib.pyplot as plt\n",
    "%matplotlib inline\n",
    "\n",
    "plt.plot(range(len(train_loss)), train_loss, label=\"train loss\")\n",
    "plt.plot(range(len(valid_loss)), valid_loss, label=\"valid loss\")\n",
    "plt.hlines(y=loss_loadback, xmin=0, xmax=len(train_loss), colors='r', linestyles='--')\n",
    "plt.legend()\n",
    "plt.title(\"Loss\")\n",
    "plt.show()\n",
    "\n",
    "plt.plot(range(len(train_acc)), train_acc, label=\"train accuracy\")\n",
    "plt.plot(range(len(valid_acc)), valid_acc, label=\"valid accuracy\")\n",
    "plt.hlines(y=acc_loadback, xmin=0, xmax=len(train_loss), colors='r', linestyles='--')\n",
    "plt.legend()\n",
    "plt.title(\"Accuracy\")\n",
    "plt.show()"
   ]
  },
  {
   "cell_type": "code",
   "execution_count": null,
   "metadata": {},
   "outputs": [],
   "source": []
  }
 ],
 "metadata": {
  "kernelspec": {
   "display_name": "Python 3",
   "language": "python",
   "name": "python3"
  },
  "language_info": {
   "codemirror_mode": {
    "name": "ipython",
    "version": 3
   },
   "file_extension": ".py",
   "mimetype": "text/x-python",
   "name": "python",
   "nbconvert_exporter": "python",
   "pygments_lexer": "ipython3",
   "version": "3.6.8"
  }
 },
 "nbformat": 4,
 "nbformat_minor": 2
}
