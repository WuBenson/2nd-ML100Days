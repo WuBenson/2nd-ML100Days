{
 "cells": [
  {
   "cell_type": "markdown",
   "metadata": {},
   "source": [
    "## Work\n",
    "1. 請嘗試寫一個 callback 用來記錄各類別在訓練過程中，對驗證集的 True Positive 與 True Negative"
   ]
  },
  {
   "cell_type": "code",
   "execution_count": 16,
   "metadata": {},
   "outputs": [],
   "source": [
    "import os\n",
    "import keras\n",
    "import numpy as np \n",
    "\n",
    "# Disable GPU\n",
    "os.environ[\"CUDA_VISIBLE_DEVICES\"] = \"\""
   ]
  },
  {
   "cell_type": "code",
   "execution_count": 2,
   "metadata": {},
   "outputs": [],
   "source": [
    "train, test = keras.datasets.cifar10.load_data()"
   ]
  },
  {
   "cell_type": "code",
   "execution_count": 3,
   "metadata": {},
   "outputs": [],
   "source": [
    "## 資料前處理\n",
    "def preproc_x(x, flatten=True):\n",
    "    x = x / 255.\n",
    "    if flatten:\n",
    "        x = x.reshape((len(x), -1))\n",
    "    return x\n",
    "\n",
    "def preproc_y(y, num_classes=10):\n",
    "    if y.shape[-1] == 1:\n",
    "        y = keras.utils.to_categorical(y, num_classes)\n",
    "    return y    "
   ]
  },
  {
   "cell_type": "code",
   "execution_count": 4,
   "metadata": {},
   "outputs": [],
   "source": [
    "x_train, y_train = train\n",
    "x_test, y_test = test\n",
    "\n",
    "# Preproc the inputs\n",
    "x_train = preproc_x(x_train)\n",
    "x_test = preproc_x(x_test)\n",
    "\n",
    "# Preprc the outputs\n",
    "y_train = preproc_y(y_train)\n",
    "y_test = preproc_y(y_test)"
   ]
  },
  {
   "cell_type": "code",
   "execution_count": 5,
   "metadata": {},
   "outputs": [],
   "source": [
    "from keras.layers import BatchNormalization\n",
    "\n",
    "def build_mlp(input_shape, output_units=10, num_neurons=[512, 256, 128]):\n",
    "    input_layer = keras.layers.Input(input_shape)\n",
    "    for i, n_units in enumerate(num_neurons):\n",
    "        if i == 0:\n",
    "            x = keras.layers.Dense(units=n_units, \n",
    "                                   activation=\"relu\", \n",
    "                                   name=\"hidden_layer\"+str(i+1))(input_layer)\n",
    "            x = BatchNormalization()(x)\n",
    "        else:\n",
    "            x = keras.layers.Dense(units=n_units, \n",
    "                                   activation=\"relu\", \n",
    "                                   name=\"hidden_layer\"+str(i+1))(x)\n",
    "            x = BatchNormalization()(x)\n",
    "    \n",
    "    out = keras.layers.Dense(units=output_units, activation=\"softmax\", name=\"output\")(x)\n",
    "    model = keras.models.Model(inputs=[input_layer], outputs=[out])\n",
    "    \n",
    "    return model"
   ]
  },
  {
   "cell_type": "code",
   "execution_count": 6,
   "metadata": {},
   "outputs": [],
   "source": [
    "## 超參數設定\n",
    "LEARNING_RATE = 1e-3\n",
    "EPOCHS = 16\n",
    "BATCH_SIZE = 1024\n",
    "MOMENTUM = 0.95"
   ]
  },
  {
   "cell_type": "code",
   "execution_count": 40,
   "metadata": {},
   "outputs": [],
   "source": [
    "# 載入 Callbacks\n",
    "from keras.callbacks import Callback\n",
    "from sklearn.metrics import confusion_matrix\n",
    "\n",
    "# Record_tp_tn\n",
    "class Record_tp_tn(Callback):\n",
    "    \n",
    "    def on_train_begin(self, logs = {}):\n",
    "        logs = logs or {}\n",
    "        record_items = [\"val_tn\", \"val_tp\"]\n",
    "        for i in record_items:\n",
    "            if i not in self.params['metrics']:\n",
    "                self.params['metrics'].append(i)\n",
    "                \n",
    "    #Record true positive & true negtive of class_0 \n",
    "    def on_epoch_end(self, epoch, logs = {}):\n",
    "        logs = logs or {}\n",
    "        y_true = self.validation_data[1].argmax(axis = 1)\n",
    "        y_pred = self.model.predict(self.validation_data[0]).argmax(axis = 1)\n",
    "        cm = confusion_matrix(y_true, y_pred, labels=np.arange(10))\n",
    "        TP = cm[0, 0]\n",
    "        TN = cm.sum() - cm[0, :].sum() - cm[:, 0].sum() + TP\n",
    "        logs['val_tn'], logs['val_tp'] = TN, TP\n",
    "\n",
    "rec_tptn = Record_tp_tn()"
   ]
  },
  {
   "cell_type": "code",
   "execution_count": 41,
   "metadata": {
    "scrolled": true
   },
   "outputs": [
    {
     "name": "stdout",
     "output_type": "stream",
     "text": [
      "_________________________________________________________________\n",
      "Layer (type)                 Output Shape              Param #   \n",
      "=================================================================\n",
      "input_5 (InputLayer)         (None, 3072)              0         \n",
      "_________________________________________________________________\n",
      "hidden_layer1 (Dense)        (None, 512)               1573376   \n",
      "_________________________________________________________________\n",
      "batch_normalization_13 (Batc (None, 512)               2048      \n",
      "_________________________________________________________________\n",
      "hidden_layer2 (Dense)        (None, 256)               131328    \n",
      "_________________________________________________________________\n",
      "batch_normalization_14 (Batc (None, 256)               1024      \n",
      "_________________________________________________________________\n",
      "hidden_layer3 (Dense)        (None, 128)               32896     \n",
      "_________________________________________________________________\n",
      "batch_normalization_15 (Batc (None, 128)               512       \n",
      "_________________________________________________________________\n",
      "output (Dense)               (None, 10)                1290      \n",
      "=================================================================\n",
      "Total params: 1,742,474\n",
      "Trainable params: 1,740,682\n",
      "Non-trainable params: 1,792\n",
      "_________________________________________________________________\n",
      "Train on 50000 samples, validate on 10000 samples\n",
      "Epoch 1/25\n",
      "50000/50000 [==============================] - 4s 72us/step - loss: 2.2063 - acc: 0.2689 - val_loss: 2.0025 - val_acc: 0.3265\n",
      "Epoch 2/25\n",
      "50000/50000 [==============================] - 2s 48us/step - loss: 1.7430 - acc: 0.3916 - val_loss: 1.7932 - val_acc: 0.3832\n",
      "Epoch 3/25\n",
      "50000/50000 [==============================] - 2s 48us/step - loss: 1.6169 - acc: 0.4349 - val_loss: 1.6912 - val_acc: 0.4122\n",
      "Epoch 4/25\n",
      "50000/50000 [==============================] - 2s 48us/step - loss: 1.5436 - acc: 0.4602 - val_loss: 1.6203 - val_acc: 0.4366\n",
      "Epoch 5/25\n",
      "50000/50000 [==============================] - 2s 48us/step - loss: 1.4888 - acc: 0.4807 - val_loss: 1.5850 - val_acc: 0.4444\n",
      "Epoch 6/25\n",
      "50000/50000 [==============================] - 2s 48us/step - loss: 1.4456 - acc: 0.4942 - val_loss: 1.5602 - val_acc: 0.4532\n",
      "Epoch 7/25\n",
      "50000/50000 [==============================] - 2s 48us/step - loss: 1.4057 - acc: 0.5096 - val_loss: 1.5235 - val_acc: 0.4628\n",
      "Epoch 8/25\n",
      "50000/50000 [==============================] - 2s 47us/step - loss: 1.3706 - acc: 0.5232 - val_loss: 1.5322 - val_acc: 0.4618\n",
      "Epoch 9/25\n",
      "50000/50000 [==============================] - 2s 48us/step - loss: 1.3387 - acc: 0.5347 - val_loss: 1.4976 - val_acc: 0.4738\n",
      "Epoch 10/25\n",
      "50000/50000 [==============================] - 2s 47us/step - loss: 1.3104 - acc: 0.5461 - val_loss: 1.4935 - val_acc: 0.4754\n",
      "Epoch 11/25\n",
      "50000/50000 [==============================] - 2s 48us/step - loss: 1.2818 - acc: 0.5557 - val_loss: 1.4957 - val_acc: 0.4752\n",
      "Epoch 12/25\n",
      "50000/50000 [==============================] - 2s 48us/step - loss: 1.2565 - acc: 0.5671 - val_loss: 1.4811 - val_acc: 0.4789\n",
      "Epoch 13/25\n",
      "50000/50000 [==============================] - 2s 48us/step - loss: 1.2334 - acc: 0.5734 - val_loss: 1.4781 - val_acc: 0.4835\n",
      "Epoch 14/25\n",
      "50000/50000 [==============================] - 2s 48us/step - loss: 1.2082 - acc: 0.5842 - val_loss: 1.4638 - val_acc: 0.4863\n",
      "Epoch 15/25\n",
      "50000/50000 [==============================] - 2s 48us/step - loss: 1.1838 - acc: 0.5939 - val_loss: 1.4624 - val_acc: 0.4868\n",
      "Epoch 16/25\n",
      "50000/50000 [==============================] - 2s 47us/step - loss: 1.1598 - acc: 0.6029 - val_loss: 1.4548 - val_acc: 0.4849\n",
      "Epoch 17/25\n",
      "50000/50000 [==============================] - 2s 47us/step - loss: 1.1373 - acc: 0.6106 - val_loss: 1.4474 - val_acc: 0.4945\n",
      "Epoch 18/25\n",
      "50000/50000 [==============================] - 2s 48us/step - loss: 1.1159 - acc: 0.6178 - val_loss: 1.4649 - val_acc: 0.4879\n",
      "Epoch 19/25\n",
      "50000/50000 [==============================] - 2s 48us/step - loss: 1.0948 - acc: 0.6272 - val_loss: 1.4423 - val_acc: 0.4993\n",
      "Epoch 20/25\n",
      "50000/50000 [==============================] - 2s 48us/step - loss: 1.0743 - acc: 0.6336 - val_loss: 1.4553 - val_acc: 0.4924\n",
      "Epoch 21/25\n",
      "50000/50000 [==============================] - 3s 53us/step - loss: 1.0517 - acc: 0.6409 - val_loss: 1.4519 - val_acc: 0.4931\n",
      "Epoch 22/25\n",
      "50000/50000 [==============================] - 2s 49us/step - loss: 1.0320 - acc: 0.6501 - val_loss: 1.4493 - val_acc: 0.4935\n",
      "Epoch 23/25\n",
      "50000/50000 [==============================] - 2s 49us/step - loss: 1.0108 - acc: 0.6590 - val_loss: 1.4665 - val_acc: 0.4920\n",
      "Epoch 24/25\n",
      "50000/50000 [==============================] - 2s 48us/step - loss: 0.9910 - acc: 0.6671 - val_loss: 1.4676 - val_acc: 0.4929\n",
      "Epoch 25/25\n",
      "50000/50000 [==============================] - 2s 50us/step - loss: 0.9715 - acc: 0.6741 - val_loss: 1.4598 - val_acc: 0.4960\n"
     ]
    }
   ],
   "source": [
    "model = build_mlp(input_shape=x_train.shape[1:])\n",
    "model.summary()\n",
    "optimizer = keras.optimizers.SGD(lr=LEARNING_RATE, nesterov=True, momentum=MOMENTUM)\n",
    "model.compile(loss=\"categorical_crossentropy\", metrics=[\"accuracy\"], optimizer=optimizer)\n",
    "\n",
    "\"\"\"Code Here\n",
    "將 callbacks 放入模型訓練流程中\n",
    "\"\"\"\n",
    "model.fit(x_train, y_train, \n",
    "          epochs=EPOCHS, \n",
    "          batch_size=BATCH_SIZE, \n",
    "          validation_data=(x_test, y_test), \n",
    "          shuffle=True,\n",
    "          callbacks=[rec_tptn]\n",
    "         )\n",
    "\n",
    "# Collect results\n",
    "train_loss = model.history.history[\"loss\"]\n",
    "valid_loss = model.history.history[\"val_loss\"]\n",
    "train_acc = model.history.history[\"acc\"]\n",
    "valid_acc = model.history.history[\"val_acc\"]\n",
    "\n",
    "\"\"\"Code Here\n",
    "將 tp/tn 從訓練完的模型中取出\n",
    "\"\"\"\n",
    "valid_tp = model.history.history['val_tp']\n",
    "valid_tn = model.history.history['val_tn']"
   ]
  },
  {
   "cell_type": "code",
   "execution_count": 44,
   "metadata": {},
   "outputs": [
    {
     "data": {
      "image/png": "[encoded data removed]",
      "text/plain": [
       "<Figure size 432x288 with 1 Axes>"
      ]
     },
     "metadata": {
      "needs_background": "light"
     },
     "output_type": "display_data"
    },
    {
     "data": {
      "image/png": "[encoded data removed]",
      "text/plain": [
       "<Figure size 432x288 with 1 Axes>"
      ]
     },
     "metadata": {
      "needs_background": "light"
     },
     "output_type": "display_data"
    },
    {
     "data": {
      "image/png": "[encoded data removed]",
      "text/plain": [
       "<Figure size 432x288 with 1 Axes>"
      ]
     },
     "metadata": {
      "needs_background": "light"
     },
     "output_type": "display_data"
    }
   ],
   "source": [
    "import matplotlib.pyplot as plt\n",
    "%matplotlib inline\n",
    "\n",
    "plt.plot(range(len(train_loss)), train_loss, label=\"train loss\")\n",
    "plt.plot(range(len(valid_loss)), valid_loss, label=\"valid loss\")\n",
    "plt.legend()\n",
    "plt.title(\"Loss\")\n",
    "plt.show()\n",
    "\n",
    "plt.plot(range(len(train_acc)), train_acc, label=\"train accuracy\")\n",
    "plt.plot(range(len(valid_acc)), valid_acc, label=\"valid accuracy\")\n",
    "plt.legend()\n",
    "plt.title(\"Accuracy\")\n",
    "plt.show()\n",
    "\n",
    "plt.plot(range(len(valid_tp)), valid_tp, label=\"valid tp\", color=\"navy\")\n",
    "plt.plot(range(len(valid_tn)), valid_tn, label=\"valid tn\", color=\"red\")\n",
    "plt.legend()\n",
    "plt.title(\"True positives and True Negatives of Class 0\")\n",
    "plt.show()\n"
   ]
  }
 ],
 "metadata": {
  "kernelspec": {
   "display_name": "Python 3",
   "language": "python",
   "name": "python3"
  },
  "language_info": {
   "codemirror_mode": {
    "name": "ipython",
    "version": 3
   },
   "file_extension": ".py",
   "mimetype": "text/x-python",
   "name": "python",
   "nbconvert_exporter": "python",
   "pygments_lexer": "ipython3",
   "version": "3.6.8"
  }
 },
 "nbformat": 4,
 "nbformat_minor": 2
}
