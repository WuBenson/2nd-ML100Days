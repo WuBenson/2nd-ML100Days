{
 "cells": [
  {
   "cell_type": "markdown",
   "metadata": {},
   "source": [
    "## Work\n",
    "1. 請將 Epoch 加到 500 個，並觀察 learning curve 的走勢\n",
    "2. 請將 Optimizer 換成 SGD，並觀察 learning curve 的走勢"
   ]
  },
  {
   "cell_type": "code",
   "execution_count": 1,
   "metadata": {},
   "outputs": [
    {
     "name": "stderr",
     "output_type": "stream",
     "text": [
      "Using TensorFlow backend.\n"
     ]
    }
   ],
   "source": [
    "import os\n",
    "import keras\n",
    "\n",
    "# 本作業可以不需使用 GPU, 將 GPU 設定為 \"無\" (若有 GPU 且想開啟，可設為 \"0\")\n",
    "os.environ[\"CUDA_VISIBLE_DEVICES\"] = \"0\""
   ]
  },
  {
   "cell_type": "code",
   "execution_count": 2,
   "metadata": {},
   "outputs": [],
   "source": [
    "# 從 Keras 的內建功能中，取得 train 與 test 資料集\n",
    "train, test = keras.datasets.cifar10.load_data()"
   ]
  },
  {
   "cell_type": "code",
   "execution_count": 3,
   "metadata": {},
   "outputs": [],
   "source": [
    "# 將 X 與 Y 獨立放進變數\n",
    "x_train, y_train = train\n",
    "x_test, y_test = test\n",
    "# 資料前處理 - 標準化\n",
    "x_train = x_train / 255.\n",
    "x_test = x_test / 255.\n",
    "\n",
    "# 將資料從圖形 (RGB) 轉為向量 (Single Vector)\n",
    "x_train = x_train.reshape((len(x_train), -1))\n",
    "x_test = x_test.reshape((len(x_test), -1))\n",
    "\n",
    "# 將目標轉為 one-hot encoding\n",
    "y_train = keras.utils.to_categorical(y_train, num_classes=10)\n",
    "y_test = keras.utils.to_categorical(y_test, num_classes=10)"
   ]
  },
  {
   "cell_type": "code",
   "execution_count": 4,
   "metadata": {},
   "outputs": [],
   "source": [
    "def build_mlp():\n",
    "    \"\"\"Code Here\n",
    "    建立你的神經網路\n",
    "    \"\"\"\n",
    "    input_layer = keras.layers.Input([x_train.shape[-1]])\n",
    "    x = keras.layers.Dense(units=512, activation=\"relu\")(input_layer)\n",
    "    x = keras.layers.Dense(units=256, activation=\"relu\")(x)\n",
    "    x = keras.layers.Dense(units=128, activation=\"relu\")(x)\n",
    "    out = keras.layers.Dense(units=10, activation=\"softmax\")(x)\n",
    "    \n",
    "    model = keras.models.Model(inputs=[input_layer], outputs=[out])\n",
    "    return model\n",
    "\n",
    "model = build_mlp()"
   ]
  },
  {
   "cell_type": "code",
   "execution_count": 5,
   "metadata": {},
   "outputs": [
    {
     "name": "stdout",
     "output_type": "stream",
     "text": [
      "_________________________________________________________________\n",
      "Layer (type)                 Output Shape              Param #   \n",
      "=================================================================\n",
      "input_1 (InputLayer)         (None, 3072)              0         \n",
      "_________________________________________________________________\n",
      "dense_1 (Dense)              (None, 512)               1573376   \n",
      "_________________________________________________________________\n",
      "dense_2 (Dense)              (None, 256)               131328    \n",
      "_________________________________________________________________\n",
      "dense_3 (Dense)              (None, 128)               32896     \n",
      "_________________________________________________________________\n",
      "dense_4 (Dense)              (None, 10)                1290      \n",
      "=================================================================\n",
      "Total params: 1,738,890\n",
      "Trainable params: 1,738,890\n",
      "Non-trainable params: 0\n",
      "_________________________________________________________________\n"
     ]
    }
   ],
   "source": [
    "\"\"\"\n",
    "Compile 模型\n",
    "\"\"\"\n",
    "model.summary()\n",
    "\n",
    "optimizer = keras.optimizers.SGD(lr=0.01)\n",
    "model.compile(loss=\"categorical_crossentropy\", metrics=[\"accuracy\"], optimizer=optimizer)"
   ]
  },
  {
   "cell_type": "code",
   "execution_count": 6,
   "metadata": {
    "scrolled": true
   },
   "outputs": [
    {
     "name": "stdout",
     "output_type": "stream",
     "text": [
      "Train on 50000 samples, validate on 10000 samples\n",
      "Epoch 1/20\n",
      "50000/50000 [==============================] - 6s 127us/step - loss: 1.9777 - acc: 0.2947 - val_loss: 1.9670 - val_acc: 0.2869\n",
      "Epoch 2/20\n",
      "50000/50000 [==============================] - 4s 85us/step - loss: 1.8049 - acc: 0.3626 - val_loss: 1.7953 - val_acc: 0.3727\n",
      "Epoch 3/20\n",
      "50000/50000 [==============================] - 4s 84us/step - loss: 1.7324 - acc: 0.3890 - val_loss: 1.7498 - val_acc: 0.3828\n",
      "Epoch 4/20\n",
      "50000/50000 [==============================] - 5s 93us/step - loss: 1.6781 - acc: 0.4063 - val_loss: 1.6327 - val_acc: 0.4259\n",
      "Epoch 5/20\n",
      "50000/50000 [==============================] - 4s 84us/step - loss: 1.6352 - acc: 0.4218 - val_loss: 1.6639 - val_acc: 0.4026\n",
      "Epoch 6/20\n",
      "50000/50000 [==============================] - 4s 86us/step - loss: 1.6010 - acc: 0.4361 - val_loss: 1.6068 - val_acc: 0.4251\n",
      "Epoch 7/20\n",
      "50000/50000 [==============================] - 4s 86us/step - loss: 1.5701 - acc: 0.4455 - val_loss: 1.5856 - val_acc: 0.4423\n",
      "Epoch 8/20\n",
      "50000/50000 [==============================] - 5s 96us/step - loss: 1.5443 - acc: 0.4542 - val_loss: 1.6025 - val_acc: 0.4378\n",
      "Epoch 9/20\n",
      "50000/50000 [==============================] - 4s 86us/step - loss: 1.5237 - acc: 0.4635 - val_loss: 1.5357 - val_acc: 0.4570\n",
      "Epoch 10/20\n",
      "50000/50000 [==============================] - 4s 85us/step - loss: 1.5029 - acc: 0.4674 - val_loss: 1.4961 - val_acc: 0.4711\n",
      "Epoch 11/20\n",
      "50000/50000 [==============================] - 4s 88us/step - loss: 1.4798 - acc: 0.4776 - val_loss: 1.5640 - val_acc: 0.4486\n",
      "Epoch 12/20\n",
      "50000/50000 [==============================] - 5s 96us/step - loss: 1.4603 - acc: 0.4827 - val_loss: 1.4992 - val_acc: 0.4627\n",
      "Epoch 13/20\n",
      "50000/50000 [==============================] - 4s 86us/step - loss: 1.4416 - acc: 0.4914 - val_loss: 1.4845 - val_acc: 0.4703\n",
      "Epoch 14/20\n",
      "50000/50000 [==============================] - 5s 92us/step - loss: 1.4229 - acc: 0.4973 - val_loss: 1.4765 - val_acc: 0.4714\n",
      "Epoch 15/20\n",
      "50000/50000 [==============================] - 4s 85us/step - loss: 1.4093 - acc: 0.5037 - val_loss: 1.4606 - val_acc: 0.4733\n",
      "Epoch 16/20\n",
      "50000/50000 [==============================] - 5s 91us/step - loss: 1.3901 - acc: 0.5104 - val_loss: 1.4518 - val_acc: 0.4850\n",
      "Epoch 17/20\n",
      "50000/50000 [==============================] - 4s 85us/step - loss: 1.3767 - acc: 0.5147 - val_loss: 1.4266 - val_acc: 0.4940\n",
      "Epoch 18/20\n",
      "50000/50000 [==============================] - 4s 86us/step - loss: 1.3610 - acc: 0.5192 - val_loss: 1.4289 - val_acc: 0.4830\n",
      "Epoch 19/20\n",
      "50000/50000 [==============================] - 4s 84us/step - loss: 1.3499 - acc: 0.5217 - val_loss: 1.4030 - val_acc: 0.4930\n",
      "Epoch 20/20\n",
      "50000/50000 [==============================] - 5s 94us/step - loss: 1.3347 - acc: 0.5261 - val_loss: 1.4268 - val_acc: 0.4964\n"
     ]
    },
    {
     "data": {
      "text/plain": [
       "<keras.callbacks.History at 0x1990b41e9b0>"
      ]
     },
     "execution_count": 6,
     "metadata": {},
     "output_type": "execute_result"
    }
   ],
   "source": [
    "\"\"\"\n",
    "設定要訓練的 Epoch 數\n",
    "\"\"\"\n",
    "model.fit(x_train, y_train, \n",
    "          epochs=20, \n",
    "          batch_size=128, \n",
    "          validation_data=(x_test, y_test), \n",
    "          shuffle=True)"
   ]
  },
  {
   "cell_type": "code",
   "execution_count": 8,
   "metadata": {},
   "outputs": [
    {
     "data": {
      "image/png": "[encoded data removed]",
      "text/plain": [
       "<Figure size 432x288 with 1 Axes>"
      ]
     },
     "metadata": {
      "needs_background": "light"
     },
     "output_type": "display_data"
    },
    {
     "data": {
      "image/png": "[encoded data removed]",
      "text/plain": [
       "<Figure size 432x288 with 1 Axes>"
      ]
     },
     "metadata": {
      "needs_background": "light"
     },
     "output_type": "display_data"
    }
   ],
   "source": [
    "import matplotlib.pyplot as plt\n",
    "# 以視覺畫方式檢視訓練過程\n",
    "\n",
    "train_loss = model.history.history[\"loss\"]\n",
    "valid_loss = model.history.history[\"val_loss\"]\n",
    "\n",
    "train_acc = model.history.history[\"acc\"]\n",
    "valid_acc = model.history.history[\"val_acc\"]\n",
    "\n",
    "plt.plot(range(len(train_loss)), train_loss, label=\"train loss\")\n",
    "plt.plot(range(len(valid_loss)), valid_loss, label=\"valid loss\")\n",
    "plt.legend()\n",
    "plt.title(\"Loss\")\n",
    "plt.show()\n",
    "\n",
    "plt.plot(range(len(train_acc)), train_acc, label=\"train accuracy\")\n",
    "plt.plot(range(len(valid_acc)), valid_acc, label=\"valid accuracy\")\n",
    "plt.legend()\n",
    "plt.title(\"Accuracy\")\n",
    "plt.show()"
   ]
  },
  {
   "cell_type": "code",
   "execution_count": null,
   "metadata": {},
   "outputs": [],
   "source": []
  }
 ],
 "metadata": {
  "kernelspec": {
   "display_name": "Python 3",
   "language": "python",
   "name": "python3"
  },
  "language_info": {
   "codemirror_mode": {
    "name": "ipython",
    "version": 3
   },
   "file_extension": ".py",
   "mimetype": "text/x-python",
   "name": "python",
   "nbconvert_exporter": "python",
   "pygments_lexer": "ipython3",
   "version": "3.6.8"
  }
 },
 "nbformat": 4,
 "nbformat_minor": 2
}
