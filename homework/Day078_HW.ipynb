{
 "cells": [
  {
   "cell_type": "markdown",
   "metadata": {},
   "source": [
    "## Work\n",
    "1. 請嘗試將 preproc_x 替換成以每筆資料的 min/max 進行標準化至 -1 ~ 1 間，再進行訓練\n",
    "2. 請嘗試將 mlp 疊更深 (e.g 5~10 層)，進行訓練後觀察 learning curve 的走勢\n",
    "3. (optional) 請改用 GPU 進行訓練 (如果你有 GPU 的話)，比較使用 CPU 與 GPU 的訓練速度"
   ]
  },
  {
   "cell_type": "code",
   "execution_count": 1,
   "metadata": {},
   "outputs": [
    {
     "name": "stderr",
     "output_type": "stream",
     "text": [
      "Using TensorFlow backend.\n"
     ]
    }
   ],
   "source": [
    "import os\n",
    "import keras\n",
    "import numpy as np\n",
    "# 請嘗試設定 GPU：os.environ\n",
    "os.environ[\"CUDA_VISIBLE_DEVICES\"] = \"0\""
   ]
  },
  {
   "cell_type": "code",
   "execution_count": 2,
   "metadata": {},
   "outputs": [],
   "source": [
    "train, test = keras.datasets.cifar10.load_data()"
   ]
  },
  {
   "cell_type": "code",
   "execution_count": 3,
   "metadata": {},
   "outputs": [],
   "source": [
    "## 資料前處理\n",
    "\"\"\"\n",
    "Your code here\n",
    "\"\"\"\n",
    "def preproc_x(x, flatten=True):\n",
    "    mi = x.min()\n",
    "    ma = x.max()\n",
    "    x = 2 * (x - mi)/(ma - mi) -1\n",
    "    if flatten:\n",
    "        x = x.reshape((len(x), -1))\n",
    "    return x\n",
    "\n",
    "def preproc_y(y, num_classes=10):\n",
    "    if y.shape[-1] == 1:\n",
    "        y = keras.utils.to_categorical(y, num_classes)\n",
    "    return y  "
   ]
  },
  {
   "cell_type": "code",
   "execution_count": 4,
   "metadata": {},
   "outputs": [],
   "source": [
    "x_train, y_train = train\n",
    "x_test, y_test = test\n",
    "\n",
    "# Preproc the inputs\n",
    "x_train = preproc_x(x_train)\n",
    "x_test = preproc_x(x_test)\n",
    "\n",
    "# Preprc the outputs\n",
    "y_train = preproc_y(y_train)\n",
    "y_test = preproc_y(y_test)"
   ]
  },
  {
   "cell_type": "code",
   "execution_count": 5,
   "metadata": {},
   "outputs": [
    {
     "name": "stdout",
     "output_type": "stream",
     "text": [
      "_________________________________________________________________\n",
      "Layer (type)                 Output Shape              Param #   \n",
      "=================================================================\n",
      "input_1 (InputLayer)         (None, 3072)              0         \n",
      "_________________________________________________________________\n",
      "hidden_layer1 (Dense)        (None, 512)               1573376   \n",
      "_________________________________________________________________\n",
      "hidden_layer2 (Dense)        (None, 256)               131328    \n",
      "_________________________________________________________________\n",
      "hidden_layer3 (Dense)        (None, 256)               65792     \n",
      "_________________________________________________________________\n",
      "hidden_layer4 (Dense)        (None, 128)               32896     \n",
      "_________________________________________________________________\n",
      "hidden_layer5 (Dense)        (None, 128)               16512     \n",
      "_________________________________________________________________\n",
      "output (Dense)               (None, 10)                1290      \n",
      "=================================================================\n",
      "Total params: 1,821,194\n",
      "Trainable params: 1,821,194\n",
      "Non-trainable params: 0\n",
      "_________________________________________________________________\n"
     ]
    }
   ],
   "source": [
    "\"\"\"Code Here\n",
    "建立你的神經網路\n",
    "\"\"\"\n",
    "def build_mlp(input_shape, output_units=10, num_neurons=[512, 256, 256, 128, 128]):\n",
    "    input_layer = keras.layers.Input(input_shape)\n",
    "    \n",
    "    for i, n_units in enumerate(num_neurons):\n",
    "        if i == 0:\n",
    "            x = keras.layers.Dense(units=n_units, activation=\"relu\", name=\"hidden_layer\"+str(i+1))(input_layer)\n",
    "        else:\n",
    "            x = keras.layers.Dense(units=n_units, activation=\"relu\", name=\"hidden_layer\"+str(i+1))(x)\n",
    "    \n",
    "    out = keras.layers.Dense(units=output_units, activation=\"softmax\", name=\"output\")(x)\n",
    "    \n",
    "    model = keras.models.Model(inputs=[input_layer], outputs=[out])\n",
    "    return model\n",
    "\n",
    "model = build_mlp(input_shape=x_train.shape[1:])\n",
    "model.summary()"
   ]
  },
  {
   "cell_type": "code",
   "execution_count": 6,
   "metadata": {},
   "outputs": [],
   "source": [
    "## 超參數設定\n",
    "LEARNING_RATE = 0.005\n",
    "EPOCHS = 20\n",
    "BATCH_SIZE = 256"
   ]
  },
  {
   "cell_type": "code",
   "execution_count": 7,
   "metadata": {},
   "outputs": [],
   "source": [
    "optimizer = keras.optimizers.Adam(lr=LEARNING_RATE)\n",
    "model.compile(loss=\"categorical_crossentropy\", metrics=[\"accuracy\"], optimizer=optimizer)"
   ]
  },
  {
   "cell_type": "code",
   "execution_count": 8,
   "metadata": {},
   "outputs": [
    {
     "name": "stdout",
     "output_type": "stream",
     "text": [
      "Train on 50000 samples, validate on 10000 samples\n",
      "Epoch 1/20\n",
      "50000/50000 [==============================] - 6s 118us/step - loss: 2.3459 - acc: 0.1313 - val_loss: 2.2610 - val_acc: 0.1343\n",
      "Epoch 2/20\n",
      "50000/50000 [==============================] - 4s 88us/step - loss: 2.2078 - acc: 0.1695 - val_loss: 2.1822 - val_acc: 0.1889\n",
      "Epoch 3/20\n",
      "50000/50000 [==============================] - 4s 76us/step - loss: 2.1450 - acc: 0.2023 - val_loss: 2.1538 - val_acc: 0.2058\n",
      "Epoch 4/20\n",
      "50000/50000 [==============================] - 4s 77us/step - loss: 2.1097 - acc: 0.2206 - val_loss: 2.1209 - val_acc: 0.2160\n",
      "Epoch 5/20\n",
      "50000/50000 [==============================] - 4s 86us/step - loss: 2.0854 - acc: 0.2319 - val_loss: 2.1055 - val_acc: 0.2233\n",
      "Epoch 6/20\n",
      "50000/50000 [==============================] - 4s 78us/step - loss: 2.0577 - acc: 0.2471 - val_loss: 2.0734 - val_acc: 0.2368\n",
      "Epoch 7/20\n",
      "50000/50000 [==============================] - 4s 78us/step - loss: 2.0283 - acc: 0.2628 - val_loss: 2.0751 - val_acc: 0.2414\n",
      "Epoch 8/20\n",
      "50000/50000 [==============================] - 4s 78us/step - loss: 2.0096 - acc: 0.2665 - val_loss: 2.0420 - val_acc: 0.2584\n",
      "Epoch 9/20\n",
      "50000/50000 [==============================] - 4s 87us/step - loss: 1.9805 - acc: 0.2786 - val_loss: 2.0685 - val_acc: 0.2417\n",
      "Epoch 10/20\n",
      "50000/50000 [==============================] - 4s 78us/step - loss: 1.9641 - acc: 0.2878 - val_loss: 2.0219 - val_acc: 0.2647\n",
      "Epoch 11/20\n",
      "50000/50000 [==============================] - 4s 77us/step - loss: 1.9479 - acc: 0.2950 - val_loss: 2.0225 - val_acc: 0.2701\n",
      "Epoch 12/20\n",
      "50000/50000 [==============================] - 4s 78us/step - loss: 1.9367 - acc: 0.2968 - val_loss: 2.0345 - val_acc: 0.2659\n",
      "Epoch 13/20\n",
      "50000/50000 [==============================] - 4s 87us/step - loss: 1.9266 - acc: 0.3013 - val_loss: 2.0671 - val_acc: 0.2545\n",
      "Epoch 14/20\n",
      "50000/50000 [==============================] - 4s 78us/step - loss: 1.9119 - acc: 0.3069 - val_loss: 2.0383 - val_acc: 0.2614\n",
      "Epoch 15/20\n",
      "50000/50000 [==============================] - 4s 77us/step - loss: 1.8962 - acc: 0.3143 - val_loss: 2.0360 - val_acc: 0.2662\n",
      "Epoch 16/20\n",
      "50000/50000 [==============================] - 4s 78us/step - loss: 1.8818 - acc: 0.3187 - val_loss: 2.0631 - val_acc: 0.2660\n",
      "Epoch 17/20\n",
      "50000/50000 [==============================] - 4s 87us/step - loss: 1.8726 - acc: 0.3231 - val_loss: 2.0183 - val_acc: 0.2769\n",
      "Epoch 18/20\n",
      "50000/50000 [==============================] - 4s 78us/step - loss: 1.8570 - acc: 0.3314 - val_loss: 2.0443 - val_acc: 0.2739\n",
      "Epoch 19/20\n",
      "50000/50000 [==============================] - 4s 78us/step - loss: 1.8570 - acc: 0.3316 - val_loss: 2.0343 - val_acc: 0.2675\n",
      "Epoch 20/20\n",
      "50000/50000 [==============================] - 4s 87us/step - loss: 1.8417 - acc: 0.3365 - val_loss: 2.0498 - val_acc: 0.2804\n"
     ]
    },
    {
     "data": {
      "text/plain": [
       "<keras.callbacks.History at 0x118d6fb9828>"
      ]
     },
     "execution_count": 8,
     "metadata": {},
     "output_type": "execute_result"
    }
   ],
   "source": [
    "model.fit(x_train, y_train, \n",
    "          epochs=EPOCHS, \n",
    "          batch_size=BATCH_SIZE, \n",
    "          validation_data=(x_test, y_test), \n",
    "          shuffle=True)"
   ]
  },
  {
   "cell_type": "code",
   "execution_count": 10,
   "metadata": {},
   "outputs": [
    {
     "data": {
      "image/png": "[encoded data removed]",
      "text/plain": [
       "<Figure size 432x288 with 1 Axes>"
      ]
     },
     "metadata": {
      "needs_background": "light"
     },
     "output_type": "display_data"
    },
    {
     "data": {
      "image/png": "[encoded data removed]",
      "text/plain": [
       "<Figure size 432x288 with 1 Axes>"
      ]
     },
     "metadata": {
      "needs_background": "light"
     },
     "output_type": "display_data"
    }
   ],
   "source": [
    "import matplotlib.pyplot as plt\n",
    "\n",
    "\n",
    "train_loss = model.history.history[\"loss\"]\n",
    "valid_loss = model.history.history[\"val_loss\"]\n",
    "\n",
    "train_acc = model.history.history[\"acc\"]\n",
    "valid_acc = model.history.history[\"val_acc\"]\n",
    "\n",
    "plt.plot(range(len(train_loss)), train_loss, label=\"train loss\")\n",
    "plt.plot(range(len(valid_loss)), valid_loss, label=\"valid loss\")\n",
    "plt.legend()\n",
    "plt.title(\"Loss\")\n",
    "plt.show()\n",
    "\n",
    "plt.plot(range(len(train_acc)), train_acc, label=\"train accuracy\")\n",
    "plt.plot(range(len(valid_acc)), valid_acc, label=\"valid accuracy\")\n",
    "plt.legend()\n",
    "plt.title(\"Accuracy\")\n",
    "plt.show()"
   ]
  },
  {
   "cell_type": "code",
   "execution_count": null,
   "metadata": {},
   "outputs": [],
   "source": []
  }
 ],
 "metadata": {
  "kernelspec": {
   "display_name": "Python 3",
   "language": "python",
   "name": "python3"
  },
  "language_info": {
   "codemirror_mode": {
    "name": "ipython",
    "version": 3
   },
   "file_extension": ".py",
   "mimetype": "text/x-python",
   "name": "python",
   "nbconvert_exporter": "python",
   "pygments_lexer": "ipython3",
   "version": "3.6.8"
  }
 },
 "nbformat": 4,
 "nbformat_minor": 2
}
